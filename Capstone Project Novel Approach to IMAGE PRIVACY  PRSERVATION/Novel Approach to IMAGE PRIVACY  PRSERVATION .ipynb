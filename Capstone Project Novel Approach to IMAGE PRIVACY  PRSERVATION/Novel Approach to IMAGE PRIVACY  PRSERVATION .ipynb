{
 "cells": [
  {
   "cell_type": "code",
   "execution_count": 2,
   "id": "3054b745",
   "metadata": {},
   "outputs": [
    {
     "name": "stdout",
     "output_type": "stream",
     "text": [
      "Note: you may need to restart the kernel to use updated packages.Collecting opencv-python\n",
      "\n",
      "  Downloading opencv_python-4.9.0.80-cp37-abi3-win_amd64.whl (38.6 MB)\n",
      "Requirement already satisfied: numpy>=1.17.3 in e:\\anaconda\\lib\\site-packages (from opencv-python) (1.20.1)\n",
      "Installing collected packages: opencv-python\n",
      "Successfully installed opencv-python-4.9.0.80\n"
     ]
    }
   ],
   "source": [
    "pip install opencv-python"
   ]
  },
  {
   "cell_type": "code",
   "execution_count": 1,
   "id": "b7e41314",
   "metadata": {},
   "outputs": [],
   "source": [
    "# live video face detection\n",
    "import cv2\n",
    "\n",
    "# Load the cascade\n",
    "face_cascade = cv2.CascadeClassifier(cv2.data.haarcascades + 'haarcascade_frontalface_default.xml')\n",
    "\n",
    "# Check if the cascade classifier is loaded successfully\n",
    "if face_cascade.empty():\n",
    "    print(\"Error: Unable to load the cascade classifier.\")\n",
    "    exit()\n",
    "\n",
    "# To capture video from webcam.\n",
    "cap = cv2.VideoCapture(0)\n",
    "\n",
    "# Check if the webcam is opened successfully\n",
    "if not cap.isOpened():\n",
    "    print(\"Error: Unable to open webcam.\")\n",
    "    exit()\n",
    "\n",
    "while True:\n",
    "    # Read the frame\n",
    "    ret, img = cap.read()\n",
    "    \n",
    "    # Check if the frame is empty\n",
    "    if not ret:\n",
    "        print(\"Error: Unable to read frame.\")\n",
    "        break\n",
    "    \n",
    "    # Convert to grayscale\n",
    "    gray = cv2.cvtColor(img, cv2.COLOR_BGR2GRAY)\n",
    "    \n",
    "    # Detect the faces\n",
    "    faces = face_cascade.detectMultiScale(gray, 1.1, 4)\n",
    "    \n",
    "    # Draw the rectangle around each face in green\n",
    "    for (x, y, w, h) in faces:\n",
    "        cv2.rectangle(img, (x, y), (x+w, y+h), (0, 255, 0), 2)  # Green color: (B, G, R)\n",
    "    \n",
    "    # Display the frame\n",
    "    cv2.imshow('img', img)\n",
    "    \n",
    "    # Stop if 'q' key is pressed\n",
    "    if cv2.waitKey(1) & 0xFF == ord('q'):\n",
    "        break\n",
    "\n",
    "# Release the VideoCapture object\n",
    "cap.release()\n",
    "cv2.destroyAllWindows()\n"
   ]
  },
  {
   "cell_type": "code",
   "execution_count": 2,
   "id": "cfab6125",
   "metadata": {},
   "outputs": [],
   "source": [
    "# live video face blurring \n",
    "import cv2\n",
    "\n",
    "# Load the cascade\n",
    "face_cascade = cv2.CascadeClassifier(cv2.data.haarcascades + 'haarcascade_frontalface_default.xml')\n",
    "\n",
    "# Check if the cascade classifier is loaded successfully\n",
    "if face_cascade.empty():\n",
    "    print(\"Error: Unable to load the cascade classifier.\")\n",
    "    exit()\n",
    "\n",
    "# To capture video from webcam.\n",
    "cap = cv2.VideoCapture(0)\n",
    "\n",
    "# Check if the webcam is opened successfully\n",
    "if not cap.isOpened():\n",
    "    print(\"Error: Unable to open webcam.\")\n",
    "    exit()\n",
    "\n",
    "while True:\n",
    "    # Read the frame\n",
    "    ret, img = cap.read()\n",
    "    \n",
    "    # Check if the frame is empty\n",
    "    if not ret:\n",
    "        print(\"Error: Unable to read frame.\")\n",
    "        break\n",
    "    \n",
    "    # Convert to grayscale\n",
    "    gray = cv2.cvtColor(img, cv2.COLOR_BGR2GRAY)\n",
    "    \n",
    "    # Detect the faces\n",
    "    faces = face_cascade.detectMultiScale(gray, 1.1, 4)\n",
    "    \n",
    "    # Blur the detected faces\n",
    "    for (x, y, w, h) in faces:\n",
    "        # Get the region of interest (ROI) in the image\n",
    "        roi = img[y:y+h, x:x+w]\n",
    "        # Apply blur to the ROI\n",
    "        blurred_roi = cv2.blur(roi, (25, 25))  # Adjust the kernel size for more or less blur\n",
    "        # Replace the original ROI with the blurred one\n",
    "        img[y:y+h, x:x+w] = blurred_roi\n",
    "    \n",
    "    # Draw the rectangle around each face in green\n",
    "    for (x, y, w, h) in faces:\n",
    "        cv2.rectangle(img, (x, y), (x+w, y+h), (0, 255, 0), 2)  # Green color: (B, G, R)\n",
    "    \n",
    "    # Display the frame\n",
    "    cv2.imshow('img', img)\n",
    "    \n",
    "    # Stop if 'q' key is pressed\n",
    "    if cv2.waitKey(1) & 0xFF == ord('q'):\n",
    "        break\n",
    "\n",
    "# Release the VideoCapture object\n",
    "cap.release()\n",
    "cv2.destroyAllWindows()\n"
   ]
  },
  {
   "cell_type": "code",
   "execution_count": 5,
   "id": "2bb82125",
   "metadata": {
    "scrolled": true
   },
   "outputs": [
    {
     "data": {
      "image/jpeg": "[encoded data removed]",
      "text/plain": [
       "<IPython.core.display.Image object>"
      ]
     },
     "metadata": {},
     "output_type": "display_data"
    },
    {
     "data": {
      "image/jpeg": "[encoded data removed]",
      "text/plain": [
       "<IPython.core.display.Image object>"
      ]
     },
     "metadata": {},
     "output_type": "display_data"
    }
   ],
   "source": [
    "#image bluring\n",
    "import cv2\n",
    "from IPython.display import display, Image\n",
    "\n",
    "# Load the cascade\n",
    "face_cascade = cv2.CascadeClassifier(cv2.data.haarcascades + 'haarcascade_frontalface_default.xml')\n",
    "\n",
    "# Read the input image\n",
    "img = cv2.imread('C:/Users/PRAKASH/Downloads/11..jpg')\n",
    "\n",
    "# Convert to grayscale\n",
    "gray = cv2.cvtColor(img, cv2.COLOR_BGR2GRAY)\n",
    "\n",
    "# Detect faces\n",
    "faces = face_cascade.detectMultiScale(gray, scaleFactor=1.2, minNeighbors=4)\n",
    "\n",
    "# Apply blurring to the detected faces\n",
    "for (x, y, w, h) in faces:\n",
    "    face_roi = img[y:y+h, x:x+w]\n",
    "    blurred_face = cv2.medianBlur(face_roi, 35)\n",
    "    img[y:y+h, x:x+w] = blurred_face\n",
    "\n",
    "# Save the blurred image\n",
    "cv2.imwrite('blurred_image.jpg', img)\n",
    "\n",
    "# Display the original and blurred images\n",
    "display(Image(filename='C:/Users/PRAKASH/Downloads/11..jpg'))\n",
    "display(Image(filename='blurred_image.jpg'))\n"
   ]
  },
  {
   "cell_type": "code",
   "execution_count": null,
   "id": "418d99b5",
   "metadata": {},
   "outputs": [],
   "source": []
  }
 ],
 "metadata": {
  "kernelspec": {
   "display_name": "Python 3",
   "language": "python",
   "name": "python3"
  },
  "language_info": {
   "codemirror_mode": {
    "name": "ipython",
    "version": 3
   },
   "file_extension": ".py",
   "mimetype": "text/x-python",
   "name": "python",
   "nbconvert_exporter": "python",
   "pygments_lexer": "ipython3",
   "version": "3.8.8"
  }
 },
 "nbformat": 4,
 "nbformat_minor": 5
}
